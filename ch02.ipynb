{
 "cells": [
  {
   "cell_type": "markdown",
   "metadata": {},
   "source": [
    " # Test-Driven Development with Python\n"
   ]
  },
  {
   "cell_type": "markdown",
   "metadata": {},
   "source": [
    "#### <font color=\"grey\">Obey the Testing Goat </font>"
   ]
  },
  {
   "cell_type": "markdown",
   "metadata": {},
   "source": [
    "<img src=\"./pics/cover_TDD_Python_goat.jpg\" width=300> "
   ]
  },
  {
   "cell_type": "markdown",
   "metadata": {},
   "source": [
    "Book: https://www.obeythetestinggoat.com/pages/book.html#toc\n"
   ]
  },
  {
   "cell_type": "markdown",
   "metadata": {},
   "source": [
    "Source code:\n",
    "\n"
   ]
  },
  {
   "cell_type": "code",
   "execution_count": 1,
   "metadata": {},
   "outputs": [
    {
     "data": {
      "text/plain": [
       "'c:\\\\Users\\\\crodr\\\\BK_tech\\\\BK_TDD_Python_goat'"
      ]
     },
     "execution_count": 1,
     "metadata": {},
     "output_type": "execute_result"
    }
   ],
   "source": [
    "pwd"
   ]
  },
  {
   "cell_type": "markdown",
   "metadata": {},
   "source": [
    "## Chapter 2. Extending our Functional Test Using the unittest Module"
   ]
  },
  {
   "cell_type": "markdown",
   "metadata": {},
   "source": [
    "### Using a Functional Test to Scope Out a Minimum Viable App"
   ]
  },
  {
   "cell_type": "markdown",
   "metadata": {},
   "source": [
    "Tests that use Selenium let us drive a real web browser, so they really let us see how the application functions from the user’s point of view. That’s why they’re called functional tests.\n",
    "\n",
    "This means that an FT can be a sort of specification for your application. It tends to track what you might call a User Story, and follows how the user might work with a particular feature and how the app should respond to them."
   ]
  },
  {
   "cell_type": "markdown",
   "metadata": {},
   "source": [
    "---\n",
    "💡 <span style='color:green'> __TERMINOLOGY:__ </span>\n",
    "\n",
    "<div class=\"alert alert-block alert-success\">\n",
    "    \n",
    "FUNCTIONAL TEST == ACCEPTANCE TEST == END-TO-END TEST\n",
    "\n",
    "</div>\n"
   ]
  },
  {
   "cell_type": "markdown",
   "metadata": {},
   "source": [
    "What I call functional tests, some people prefer to call acceptance tests, or end-to-end tests. The main point is that these kinds of tests look at how the whole application functions, from the outside. Another names are black box test or closed box test because the test doesn’t know anything about the internals of the system under test.\n",
    "\n",
    "---"
   ]
  },
  {
   "cell_type": "markdown",
   "metadata": {},
   "source": [
    "A minimum viable to-do list really only needs to let the user enter some to-do items, and remember them for their next visit.\n",
    "\n",
    "Open up functional_tests.py and write a story a bit like this one:\n",
    "\n",
    "functional_tests.py (ch02l001)"
   ]
  },
  {
   "cell_type": "markdown",
   "metadata": {},
   "source": [
    "You’ll notice that, apart from writing the test out as comments, I’ve updated the assert to look for the word “To-Do” instead of Django’s “Congratulations”. That means we expect the test to fail now. Let’s try running it.\n",
    "\n",
    "First, start up the server:\n",
    "\n",
    "```python\n",
    "$ python manage.py runserver\n",
    "```\n"
   ]
  },
  {
   "cell_type": "markdown",
   "metadata": {},
   "source": [
    "And then, in another terminal, run the tests:\n",
    "\n",
    "```python\n",
    "PS C:\\Users\\crodr\\BK_tech\\BK_TDD_Python_goat> python functional_test.py\n",
    ">> \n",
    "\n",
    "DevTools listening on ws://127.0.0.1:62574/devtools/browser/05c98219-6370-4a7e-8655-a0e56948bf2c\n",
    "[19556:17720:0309/124819.856:ERROR:interface_endpoint_client.cc(725)] Message 0 rejected by interface blink.mojom.WidgetHost\n",
    "Traceback (most recent call last):\n",
    "  File \"C:\\Users\\crodr\\BK_tech\\BK_TDD_Python_goat\\functional_test.py\", line 10, in <module>\n",
    "    assert \"To-Do\" in browser.title\n",
    "AssertionError\n",
    "\n",
    "```"
   ]
  },
  {
   "cell_type": "markdown",
   "metadata": {},
   "source": [
    "That’s what we call an expected fail, which is actually good news—​not quite as good as a test that passes, but at least it’s failing for the right reason; we can have some confidence we’ve written the test correctly."
   ]
  },
  {
   "cell_type": "markdown",
   "metadata": {},
   "source": [
    "Let’s try out our new and improved FT!"
   ]
  },
  {
   "cell_type": "code",
   "execution_count": 4,
   "metadata": {},
   "outputs": [
    {
     "name": "stderr",
     "output_type": "stream",
     "text": [
      "F\n",
      "======================================================================\n",
      "FAIL: test_can_start_a_todo_list (__main__.NewVisitorTest.test_can_start_a_todo_list)\n",
      "----------------------------------------------------------------------\n",
      "Traceback (most recent call last):\n",
      "  File \"c:\\Users\\crodr\\BK_tech\\BK_TDD_Python_goat\\functional_tests.py\", line 19, in test_can_start_a_todo_list\n",
      "    self.assertIn(\"To-Do\", self.browser.title)\n",
      "AssertionError: 'To-Do' not found in 'The install worked successfully! Congratulations!'\n",
      "\n",
      "----------------------------------------------------------------------\n",
      "Ran 1 test in 4.318s\n",
      "\n",
      "FAILED (failures=1)\n"
     ]
    }
   ],
   "source": [
    "!python functional_tests.py"
   ]
  },
  {
   "cell_type": "code",
   "execution_count": null,
   "metadata": {},
   "outputs": [],
   "source": []
  },
  {
   "cell_type": "code",
   "execution_count": null,
   "metadata": {},
   "outputs": [],
   "source": []
  },
  {
   "cell_type": "code",
   "execution_count": null,
   "metadata": {},
   "outputs": [],
   "source": []
  }
 ],
 "metadata": {
  "kernelspec": {
   "display_name": ".venv",
   "language": "python",
   "name": "python3"
  },
  "language_info": {
   "codemirror_mode": {
    "name": "ipython",
    "version": 3
   },
   "file_extension": ".py",
   "mimetype": "text/x-python",
   "name": "python",
   "nbconvert_exporter": "python",
   "pygments_lexer": "ipython3",
   "version": "3.12.1"
  }
 },
 "nbformat": 4,
 "nbformat_minor": 2
}
