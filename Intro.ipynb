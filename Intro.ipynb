{
 "cells": [
  {
   "cell_type": "markdown",
   "metadata": {},
   "source": [
    " # Test-Driven Development with Python\n"
   ]
  },
  {
   "cell_type": "markdown",
   "metadata": {},
   "source": [
    "#### <font color=\"grey\">Obey the Testing Goat </font>"
   ]
  },
  {
   "cell_type": "markdown",
   "metadata": {},
   "source": [
    "<img src=\"../pics/cover_TDD_Python_goat.jpg\" width=300> "
   ]
  },
  {
   "cell_type": "markdown",
   "metadata": {},
   "source": [
    "Source code:\n",
    "\n"
   ]
  },
  {
   "cell_type": "code",
   "execution_count": 1,
   "metadata": {},
   "outputs": [
    {
     "data": {
      "text/plain": [
       "'c:\\\\Users\\\\crodr\\\\BK_tech\\\\BK_TDD_Python_goat\\\\Intro'"
      ]
     },
     "execution_count": 1,
     "metadata": {},
     "output_type": "execute_result"
    }
   ],
   "source": [
    "pwd"
   ]
  },
  {
   "cell_type": "markdown",
   "metadata": {},
   "source": [
    "## Chapter Intro"
   ]
  },
  {
   "cell_type": "markdown",
   "metadata": {},
   "source": [
    "### Installing Django and Selenium"
   ]
  },
  {
   "cell_type": "code",
   "execution_count": 1,
   "metadata": {},
   "outputs": [
    {
     "name": "stdout",
     "output_type": "stream",
     "text": [
      "Requirement already satisfied: django<4.3 in c:\\users\\crodr\\bk_tech\\bk_tdd_python_goat\\.venv\\lib\\site-packages (4.2.20)\n",
      "Requirement already satisfied: selenium in c:\\users\\crodr\\bk_tech\\bk_tdd_python_goat\\.venv\\lib\\site-packages (4.29.0)\n",
      "Requirement already satisfied: asgiref<4,>=3.6.0 in c:\\users\\crodr\\bk_tech\\bk_tdd_python_goat\\.venv\\lib\\site-packages (from django<4.3) (3.8.1)\n",
      "Requirement already satisfied: sqlparse>=0.3.1 in c:\\users\\crodr\\bk_tech\\bk_tdd_python_goat\\.venv\\lib\\site-packages (from django<4.3) (0.5.3)\n",
      "Requirement already satisfied: tzdata in c:\\users\\crodr\\bk_tech\\bk_tdd_python_goat\\.venv\\lib\\site-packages (from django<4.3) (2025.1)\n",
      "Requirement already satisfied: urllib3<3,>=1.26 in c:\\users\\crodr\\bk_tech\\bk_tdd_python_goat\\.venv\\lib\\site-packages (from urllib3[socks]<3,>=1.26->selenium) (2.3.0)\n",
      "Requirement already satisfied: trio~=0.17 in c:\\users\\crodr\\bk_tech\\bk_tdd_python_goat\\.venv\\lib\\site-packages (from selenium) (0.29.0)\n",
      "Requirement already satisfied: trio-websocket~=0.9 in c:\\users\\crodr\\bk_tech\\bk_tdd_python_goat\\.venv\\lib\\site-packages (from selenium) (0.12.2)\n",
      "Requirement already satisfied: certifi>=2021.10.8 in c:\\users\\crodr\\bk_tech\\bk_tdd_python_goat\\.venv\\lib\\site-packages (from selenium) (2025.1.31)\n",
      "Requirement already satisfied: typing_extensions~=4.9 in c:\\users\\crodr\\bk_tech\\bk_tdd_python_goat\\.venv\\lib\\site-packages (from selenium) (4.12.2)\n",
      "Requirement already satisfied: websocket-client~=1.8 in c:\\users\\crodr\\bk_tech\\bk_tdd_python_goat\\.venv\\lib\\site-packages (from selenium) (1.8.0)\n",
      "Requirement already satisfied: attrs>=23.2.0 in c:\\users\\crodr\\bk_tech\\bk_tdd_python_goat\\.venv\\lib\\site-packages (from trio~=0.17->selenium) (25.1.0)\n",
      "Requirement already satisfied: sortedcontainers in c:\\users\\crodr\\bk_tech\\bk_tdd_python_goat\\.venv\\lib\\site-packages (from trio~=0.17->selenium) (2.4.0)\n",
      "Requirement already satisfied: idna in c:\\users\\crodr\\bk_tech\\bk_tdd_python_goat\\.venv\\lib\\site-packages (from trio~=0.17->selenium) (3.10)\n",
      "Requirement already satisfied: outcome in c:\\users\\crodr\\bk_tech\\bk_tdd_python_goat\\.venv\\lib\\site-packages (from trio~=0.17->selenium) (1.3.0.post0)\n",
      "Requirement already satisfied: sniffio>=1.3.0 in c:\\users\\crodr\\bk_tech\\bk_tdd_python_goat\\.venv\\lib\\site-packages (from trio~=0.17->selenium) (1.3.1)\n",
      "Requirement already satisfied: cffi>=1.14 in c:\\users\\crodr\\bk_tech\\bk_tdd_python_goat\\.venv\\lib\\site-packages (from trio~=0.17->selenium) (1.17.1)\n",
      "Requirement already satisfied: wsproto>=0.14 in c:\\users\\crodr\\bk_tech\\bk_tdd_python_goat\\.venv\\lib\\site-packages (from trio-websocket~=0.9->selenium) (1.2.0)\n",
      "Requirement already satisfied: pysocks!=1.5.7,<2.0,>=1.5.6 in c:\\users\\crodr\\bk_tech\\bk_tdd_python_goat\\.venv\\lib\\site-packages (from urllib3[socks]<3,>=1.26->selenium) (1.7.1)\n",
      "Requirement already satisfied: pycparser in c:\\users\\crodr\\bk_tech\\bk_tdd_python_goat\\.venv\\lib\\site-packages (from cffi>=1.14->trio~=0.17->selenium) (2.22)\n",
      "Requirement already satisfied: h11<1,>=0.9.0 in c:\\users\\crodr\\bk_tech\\bk_tdd_python_goat\\.venv\\lib\\site-packages (from wsproto>=0.14->trio-websocket~=0.9->selenium) (0.14.0)\n",
      "Note: you may need to restart the kernel to use updated packages.\n"
     ]
    }
   ],
   "source": [
    "pip install \"django<4.3\" \"selenium\""
   ]
  },
  {
   "cell_type": "code",
   "execution_count": 3,
   "metadata": {},
   "outputs": [],
   "source": [
    "!python -c \"from selenium import webdriver; webdriver.Chrome()\""
   ]
  },
  {
   "cell_type": "markdown",
   "metadata": {},
   "source": [
    "That will create a file called manage.py in your current folder, and a subfolder called superlists, with more stuff inside it.\n",
    "\n",
    "The superlists folder is intended for stuff that applies to the whole project—​like settings.py, for example, which is used to store global configuration information for the site.\n",
    "\n",
    "But the main thing to notice is manage.py. That’s Django’s Swiss Army knife, and one of the things it can do is run a development server. Let’s try that now:"
   ]
  }
 ],
 "metadata": {
  "kernelspec": {
   "display_name": ".venv",
   "language": "python",
   "name": "python3"
  },
  "language_info": {
   "codemirror_mode": {
    "name": "ipython",
    "version": 3
   },
   "file_extension": ".py",
   "mimetype": "text/x-python",
   "name": "python",
   "nbconvert_exporter": "python",
   "pygments_lexer": "ipython3",
   "version": "3.12.1"
  }
 },
 "nbformat": 4,
 "nbformat_minor": 2
}
