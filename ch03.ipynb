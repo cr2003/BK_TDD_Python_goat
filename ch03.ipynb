{
 "cells": [
  {
   "cell_type": "markdown",
   "metadata": {},
   "source": [
    " # Test-Driven Development with Python\n"
   ]
  },
  {
   "cell_type": "markdown",
   "metadata": {},
   "source": [
    "#### <font color=\"grey\">Obey the Testing Goat </font>"
   ]
  },
  {
   "cell_type": "markdown",
   "metadata": {},
   "source": [
    "<img src=\"./pics/cover_TDD_Python_goat.jpg\" width=300> "
   ]
  },
  {
   "cell_type": "markdown",
   "metadata": {},
   "source": [
    "Book: https://www.obeythetestinggoat.com/pages/book.html#toc\n"
   ]
  },
  {
   "cell_type": "markdown",
   "metadata": {},
   "source": [
    "Source code:\n",
    "\n"
   ]
  },
  {
   "cell_type": "code",
   "execution_count": 1,
   "metadata": {},
   "outputs": [
    {
     "data": {
      "text/plain": [
       "'c:\\\\Users\\\\crodr\\\\BK_tech\\\\BK_TDD_Python_goat'"
      ]
     },
     "execution_count": 1,
     "metadata": {},
     "output_type": "execute_result"
    }
   ],
   "source": [
    "pwd"
   ]
  },
  {
   "cell_type": "markdown",
   "metadata": {},
   "source": [
    "## Chapter 3. Testing a Simple Home Page with Unit Tests"
   ]
  },
  {
   "cell_type": "markdown",
   "metadata": {},
   "source": [
    "### Our First Django App, and Our First Unit Test"
   ]
  },
  {
   "cell_type": "code",
   "execution_count": 5,
   "metadata": {},
   "outputs": [
    {
     "name": "stderr",
     "output_type": "stream",
     "text": [
      "CommandError: 'lists' conflicts with the name of an existing Python module and cannot be used as an app name. Please try another name.\n"
     ]
    }
   ],
   "source": [
    "!python manage.py startapp lists"
   ]
  },
  {
   "cell_type": "markdown",
   "metadata": {},
   "source": [
    "### Unit Tests, and How They Differ from Functional Tests\n",
    "\n",
    "The basic distinction, though, is that functional tests test the application from the outside, from the user’s point of view. Unit tests test the application from the inside, from the programmer’s point of view."
   ]
  },
  {
   "cell_type": "markdown",
   "metadata": {},
   "source": [
    "### Unit Testing in Django"
   ]
  },
  {
   "cell_type": "markdown",
   "metadata": {},
   "source": [
    "Let’s see how to write a unit test for our home page view. Open up the new file at lists/tests.py, and you’ll see something like this:"
   ]
  },
  {
   "cell_type": "code",
   "execution_count": 16,
   "metadata": {},
   "outputs": [
    {
     "name": "stdout",
     "output_type": "stream",
     "text": [
      "from django.test import TestCase\n",
      "\n",
      "class SmokeTest(TestCase):\n",
      "    def test_bad_maths(self):\n",
      "        self.assertEqual(1 + 1, 3)\n"
     ]
    }
   ],
   "source": [
    "!type lists\\tests.py"
   ]
  },
  {
   "cell_type": "markdown",
   "metadata": {},
   "source": [
    "Now let’s invoke this mysterious Django test runner. As usual, it’s a manage.py command:"
   ]
  },
  {
   "cell_type": "code",
   "execution_count": 17,
   "metadata": {},
   "outputs": [
    {
     "name": "stdout",
     "output_type": "stream",
     "text": [
      "Found 1 test(s).\n",
      "System check identified no issues (0 silenced).\n"
     ]
    },
    {
     "name": "stderr",
     "output_type": "stream",
     "text": [
      "Creating test database for alias 'default'...\n",
      "\n",
      "F\n",
      "======================================================================\n",
      "FAIL: test_bad_maths (lists.tests.SmokeTest.test_bad_maths)\n",
      "----------------------------------------------------------------------\n",
      "Traceback (most recent call last):\n",
      "  File \"c:\\Users\\crodr\\BK_tech\\BK_TDD_Python_goat\\lists\\tests.py\", line 5, in test_bad_maths\n",
      "    self.assertEqual(1 + 1, 3)\n",
      "AssertionError: 2 != 3\n",
      "\n",
      "----------------------------------------------------------------------\n",
      "Ran 1 test in 0.001s\n",
      "\n",
      "FAILED (failures=1)\n",
      "Destroying test database for alias 'default'...\n",
      "\n"
     ]
    }
   ],
   "source": [
    "!python manage.py test  "
   ]
  },
  {
   "cell_type": "markdown",
   "metadata": {},
   "source": [
    "Excellent. The machinery seems to be working. This is a good point for a commit:"
   ]
  },
  {
   "cell_type": "code",
   "execution_count": 18,
   "metadata": {},
   "outputs": [
    {
     "name": "stdout",
     "output_type": "stream",
     "text": [
      "On branch master\n",
      "Your branch is up to date with 'origin/master'.\n",
      "\n",
      "Changes not staged for commit:\n",
      "  (use \"git add <file>...\" to update what will be committed)\n",
      "  (use \"git restore <file>...\" to discard changes in working directory)\n",
      "\tmodified:   ch02.ipynb\n",
      "\n",
      "Untracked files:\n",
      "  (use \"git add <file>...\" to include in what will be committed)\n",
      "\tch03.ipynb\n",
      "\tlists/\n",
      "\n",
      "no changes added to commit (use \"git add\" and/or \"git commit -a\")\n"
     ]
    }
   ],
   "source": [
    "!git status"
   ]
  },
  {
   "cell_type": "code",
   "execution_count": 20,
   "metadata": {},
   "outputs": [],
   "source": [
    "!git add lists"
   ]
  },
  {
   "cell_type": "code",
   "execution_count": 21,
   "metadata": {},
   "outputs": [
    {
     "name": "stdout",
     "output_type": "stream",
     "text": [
      "diff --git a/ch02.ipynb b/ch02.ipynb\n",
      "index 27f65b8..52fa135 100644\n",
      "--- a/ch02.ipynb\n",
      "+++ b/ch02.ipynb\n",
      "@@ -153,12 +153,41 @@\n",
      "     \"That’s what we call an expected fail, which is actually good news—​not quite as good as a test that passes, but at least it’s failing for the right reason; we can have some confidence we’ve written the test correctly.\"\n",
      "    ]\n",
      "   },\n",
      "+  {\n",
      "+   \"cell_type\": \"markdown\",\n",
      "+   \"metadata\": {},\n",
      "+   \"source\": [\n",
      "+    \"Let’s try out our new and improved FT!\"\n",
      "+   ]\n",
      "+  },\n",
      "   {\n",
      "    \"cell_type\": \"code\",\n",
      "-   \"execution_count\": null,\n",
      "+   \"execution_count\": 4,\n",
      "    \"metadata\": {},\n",
      "-   \"outputs\": [],\n",
      "-   \"source\": []\n",
      "+   \"outputs\": [\n",
      "+    {\n",
      "+     \"name\": \"stderr\",\n",
      "+     \"output_type\": \"stream\",\n",
      "+     \"text\": [\n",
      "+      \"F\\n\",\n",
      "+      \"======================================================================\\n\",\n",
      "+      \"FAIL: test_can_start_a_todo_list (__main__.NewVisitorTest.test_can_start_a_todo_list)\\n\",\n",
      "+      \"----------------------------------------------------------------------\\n\",\n",
      "+      \"Traceback (most recent call last):\\n\",\n",
      "+      \"  File \\\"c:\\\\Users\\\\crodr\\\\BK_tech\\\\BK_TDD_Python_goat\\\\functional_tests.py\\\", line 19, in test_can_start_a_todo_list\\n\",\n",
      "+      \"    self.assertIn(\\\"To-Do\\\", self.browser.title)\\n\",\n",
      "+      \"AssertionError: 'To-Do' not found in 'The install worked successfully! Congratulations!'\\n\",\n",
      "+      \"\\n\",\n",
      "+      \"----------------------------------------------------------------------\\n\",\n",
      "+      \"Ran 1 test in 4.318s\\n\",\n",
      "+      \"\\n\",\n",
      "+      \"FAILED (failures=1)\\n\"\n",
      "+     ]\n",
      "+    }\n",
      "+   ],\n",
      "+   \"source\": [\n",
      "+    \"!python functional_tests.py\"\n",
      "+   ]\n",
      "   },\n",
      "   {\n",
      "    \"cell_type\": \"code\",\n",
      "diff --git a/ch03.ipynb b/ch03.ipynb\n",
      "new file mode 100644\n",
      "index 0000000..65b261f\n",
      "--- /dev/null\n",
      "+++ b/ch03.ipynb\n",
      "@@ -0,0 +1,126 @@\n",
      "+{\n",
      "+ \"cells\": [\n",
      "+  {\n",
      "+   \"cell_type\": \"markdown\",\n",
      "+   \"metadata\": {},\n",
      "+   \"source\": [\n",
      "+    \" # Test-Driven Development with Python\\n\"\n",
      "+   ]\n",
      "+  },\n",
      "+  {\n",
      "+   \"cell_type\": \"markdown\",\n",
      "+   \"metadata\": {},\n",
      "+   \"source\": [\n",
      "+    \"#### <font color=\\\"grey\\\">Obey the Testing Goat </font>\"\n",
      "+   ]\n",
      "+  },\n",
      "+  {\n",
      "+   \"cell_type\": \"markdown\",\n",
      "+   \"metadata\": {},\n",
      "+   \"source\": [\n",
      "+    \"<img src=\\\"./pics/cover_TDD_Python_goat.jpg\\\" width=300> \"\n",
      "+   ]\n",
      "+  },\n",
      "+  {\n",
      "+   \"cell_type\": \"markdown\",\n",
      "+   \"metadata\": {},\n",
      "+   \"source\": [\n",
      "+    \"Book: https://www.obeythetestinggoat.com/pages/book.html#toc\\n\"\n",
      "+   ]\n",
      "+  },\n",
      "+  {\n",
      "+   \"cell_type\": \"markdown\",\n",
      "+   \"metadata\": {},\n",
      "+   \"source\": [\n",
      "+    \"Source code:\\n\",\n",
      "+    \"\\n\"\n",
      "+   ]\n",
      "+  },\n",
      "+  {\n",
      "+   \"cell_type\": \"code\",\n",
      "+   \"execution_count\": 1,\n",
      "+   \"metadata\": {},\n",
      "+   \"outputs\": [\n",
      "+    {\n",
      "+     \"data\": {\n",
      "+      \"text/plain\": [\n",
      "+       \"'c:\\\\\\\\Users\\\\\\\\crodr\\\\\\\\BK_tech\\\\\\\\BK_TDD_Python_goat'\"\n",
      "+      ]\n",
      "+     },\n",
      "+     \"execution_count\": 1,\n",
      "+     \"metadata\": {},\n",
      "+     \"output_type\": \"execute_result\"\n",
      "+    }\n",
      "+   ],\n",
      "+   \"source\": [\n",
      "+    \"pwd\"\n",
      "+   ]\n",
      "+  },\n",
      "+  {\n",
      "+   \"cell_type\": \"markdown\",\n",
      "+   \"metadata\": {},\n",
      "+   \"source\": [\n",
      "+    \"## Chapter 3. Testing a Simple Home Page with Unit Tests\"\n",
      "+   ]\n",
      "+  },\n",
      "+  {\n",
      "+   \"cell_type\": \"markdown\",\n",
      "+   \"metadata\": {},\n",
      "+   \"source\": [\n",
      "+    \"### Our First Django App, and Our First Unit Test\"\n",
      "+   ]\n",
      "+  },\n",
      "+  {\n",
      "+   \"cell_type\": \"code\",\n",
      "+   \"execution_count\": 5,\n",
      "+   \"metadata\": {},\n",
      "+   \"outputs\": [\n",
      "+    {\n",
      "+     \"name\": \"stderr\",\n",
      "+     \"output_type\": \"stream\",\n",
      "+     \"text\": [\n",
      "+      \"CommandError: 'lists' conflicts with the name of an existing Python module and cannot be used as an app name. Please try another name.\\n\"\n",
      "+     ]\n",
      "+    }\n",
      "+   ],\n",
      "+   \"source\": [\n",
      "+    \"!python manage.py startapp lists\"\n",
      "+   ]\n",
      "+  },\n",
      "+  {\n",
      "+   \"cell_type\": \"code\",\n",
      "+   \"execution_count\": null,\n",
      "+   \"metadata\": {},\n",
      "+   \"outputs\": [],\n",
      "+   \"source\": []\n",
      "+  },\n",
      "+  {\n",
      "+   \"cell_type\": \"code\",\n",
      "+   \"execution_count\": null,\n",
      "+   \"metadata\": {},\n",
      "+   \"outputs\": [],\n",
      "+   \"source\": []\n",
      "+  }\n",
      "+ ],\n",
      "+ \"metadata\": {\n",
      "+  \"kernelspec\": {\n",
      "+   \"display_name\": \".venv\",\n",
      "+   \"language\": \"python\",\n",
      "+   \"name\": \"python3\"\n",
      "+  },\n",
      "+  \"language_info\": {\n",
      "+   \"codemirror_mode\": {\n",
      "+    \"name\": \"ipython\",\n",
      "+    \"version\": 3\n",
      "+   },\n",
      "+   \"file_extension\": \".py\",\n",
      "+   \"mimetype\": \"text/x-python\",\n",
      "+   \"name\": \"python\",\n",
      "+   \"nbconvert_exporter\": \"python\",\n",
      "+   \"pygments_lexer\": \"ipython3\",\n",
      "+   \"version\": \"3.12.1\"\n",
      "+  }\n",
      "+ },\n",
      "+ \"nbformat\": 4,\n",
      "+ \"nbformat_minor\": 2\n",
      "+}\n",
      "diff --git a/lists/__init__.py b/lists/__init__.py\n",
      "new file mode 100644\n",
      "index 0000000..e69de29\n",
      "diff --git a/lists/__pycache__/__init__.cpython-312.pyc b/lists/__pycache__/__init__.cpython-312.pyc\n",
      "new file mode 100644\n",
      "index 0000000..a32f1f8\n",
      "Binary files /dev/null and b/lists/__pycache__/__init__.cpython-312.pyc differ\n",
      "diff --git a/lists/__pycache__/tests.cpython-312.pyc b/lists/__pycache__/tests.cpython-312.pyc\n",
      "new file mode 100644\n",
      "index 0000000..63a2dfc\n",
      "Binary files /dev/null and b/lists/__pycache__/tests.cpython-312.pyc differ\n",
      "diff --git a/lists/admin.py b/lists/admin.py\n",
      "new file mode 100644\n",
      "index 0000000..8c38f3f\n",
      "--- /dev/null\n",
      "+++ b/lists/admin.py\n",
      "@@ -0,0 +1,3 @@\n",
      "+from django.contrib import admin\n",
      "+\n",
      "+# Register your models here.\n",
      "diff --git a/lists/apps.py b/lists/apps.py\n",
      "new file mode 100644\n",
      "index 0000000..595ab53\n",
      "--- /dev/null\n",
      "+++ b/lists/apps.py\n",
      "@@ -0,0 +1,6 @@\n",
      "+from django.apps import AppConfig\n",
      "+\n",
      "+\n",
      "+class ListsConfig(AppConfig):\n",
      "+    default_auto_field = \"django.db.models.BigAutoField\"\n",
      "+    name = \"lists\"\n",
      "diff --git a/lists/migrations/__init__.py b/lists/migrations/__init__.py\n",
      "new file mode 100644\n",
      "index 0000000..e69de29\n",
      "diff --git a/lists/migrations/__pycache__/__init__.cpython-312.pyc b/lists/migrations/__pycache__/__init__.cpython-312.pyc\n",
      "new file mode 100644\n",
      "index 0000000..314b873\n",
      "Binary files /dev/null and b/lists/migrations/__pycache__/__init__.cpython-312.pyc differ\n",
      "diff --git a/lists/models.py b/lists/models.py\n",
      "new file mode 100644\n",
      "index 0000000..71a8362\n",
      "--- /dev/null\n",
      "+++ b/lists/models.py\n",
      "@@ -0,0 +1,3 @@\n",
      "+from django.db import models\n",
      "+\n",
      "+# Create your models here.\n",
      "diff --git a/lists/tests.py b/lists/tests.py\n",
      "new file mode 100644\n",
      "index 0000000..90f6bdb\n",
      "--- /dev/null\n",
      "+++ b/lists/tests.py\n",
      "@@ -0,0 +1,5 @@\n",
      "+from django.test import TestCase\n",
      "+\n",
      "+class SmokeTest(TestCase):\n",
      "+    def test_bad_maths(self):\n",
      "+        self.assertEqual(1 + 1, 3)\n",
      "diff --git a/lists/views.py b/lists/views.py\n",
      "new file mode 100644\n",
      "index 0000000..91ea44a\n",
      "--- /dev/null\n",
      "+++ b/lists/views.py\n",
      "@@ -0,0 +1,3 @@\n",
      "+from django.shortcuts import render\n",
      "+\n",
      "+# Create your views here.\n"
     ]
    }
   ],
   "source": [
    "!git diff --staged"
   ]
  },
  {
   "cell_type": "code",
   "execution_count": 22,
   "metadata": {},
   "outputs": [
    {
     "name": "stdout",
     "output_type": "stream",
     "text": [
      "[master 5a963c6] Add app for lists, whith deliberate failing unit test\n",
      " 12 files changed, 178 insertions(+), 3 deletions(-)\n",
      " create mode 100644 ch03.ipynb\n",
      " create mode 100644 lists/__init__.py\n",
      " create mode 100644 lists/__pycache__/__init__.cpython-312.pyc\n",
      " create mode 100644 lists/__pycache__/tests.cpython-312.pyc\n",
      " create mode 100644 lists/admin.py\n",
      " create mode 100644 lists/apps.py\n",
      " create mode 100644 lists/migrations/__init__.py\n",
      " create mode 100644 lists/migrations/__pycache__/__init__.cpython-312.pyc\n",
      " create mode 100644 lists/models.py\n",
      " create mode 100644 lists/tests.py\n",
      " create mode 100644 lists/views.py\n"
     ]
    }
   ],
   "source": [
    "!git commit -m \"Add app for lists, whith deliberate failing unit test\""
   ]
  },
  {
   "cell_type": "code",
   "execution_count": 23,
   "metadata": {},
   "outputs": [
    {
     "name": "stderr",
     "output_type": "stream",
     "text": [
      "To https://github.com/cr2003/BK_TDD_Python_goat.git\n",
      "   cea9099..5a963c6  master -> master\n"
     ]
    }
   ],
   "source": [
    "!git push"
   ]
  },
  {
   "cell_type": "markdown",
   "metadata": {},
   "source": [
    "### Django's MVC, URLs, and View Functions"
   ]
  },
  {
   "cell_type": "markdown",
   "metadata": {},
   "source": [
    "Django is structured along a classic Model-View-Controller (MVC) pattern. Well, broadly. It definitely does have models, but what Django calls views are really controllers, and the view part is actually provided by the templates, but you can see the general idea is there!"
   ]
  },
  {
   "cell_type": "markdown",
   "metadata": {},
   "source": [
    "### Unit Testing a View\n",
    "\n",
    "Open up lists/tests.py, and change our silly test to something like this:"
   ]
  },
  {
   "cell_type": "code",
   "execution_count": null,
   "metadata": {},
   "outputs": [],
   "source": []
  }
 ],
 "metadata": {
  "kernelspec": {
   "display_name": ".venv",
   "language": "python",
   "name": "python3"
  },
  "language_info": {
   "codemirror_mode": {
    "name": "ipython",
    "version": 3
   },
   "file_extension": ".py",
   "mimetype": "text/x-python",
   "name": "python",
   "nbconvert_exporter": "python",
   "pygments_lexer": "ipython3",
   "version": "3.12.1"
  }
 },
 "nbformat": 4,
 "nbformat_minor": 2
}
