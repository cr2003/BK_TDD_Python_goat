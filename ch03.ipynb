{
 "cells": [
  {
   "cell_type": "markdown",
   "metadata": {},
   "source": [
    " # Test-Driven Development with Python\n"
   ]
  },
  {
   "cell_type": "markdown",
   "metadata": {},
   "source": [
    "#### <font color=\"grey\">Obey the Testing Goat </font>"
   ]
  },
  {
   "cell_type": "markdown",
   "metadata": {},
   "source": [
    "<img src=\"./pics/cover_TDD_Python_goat.jpg\" width=300> "
   ]
  },
  {
   "cell_type": "markdown",
   "metadata": {},
   "source": [
    "Book: https://www.obeythetestinggoat.com/pages/book.html#toc\n"
   ]
  },
  {
   "cell_type": "markdown",
   "metadata": {},
   "source": [
    "Source code:\n",
    "\n"
   ]
  },
  {
   "cell_type": "code",
   "execution_count": 1,
   "metadata": {},
   "outputs": [
    {
     "data": {
      "text/plain": [
       "'c:\\\\Users\\\\crodr\\\\BK_tech\\\\BK_TDD_Python_goat'"
      ]
     },
     "execution_count": 1,
     "metadata": {},
     "output_type": "execute_result"
    }
   ],
   "source": [
    "pwd"
   ]
  },
  {
   "cell_type": "markdown",
   "metadata": {},
   "source": [
    "## Chapter 3. Testing a Simple Home Page with Unit Tests"
   ]
  },
  {
   "cell_type": "markdown",
   "metadata": {},
   "source": [
    "### Our First Django App, and Our First Unit Test"
   ]
  },
  {
   "cell_type": "code",
   "execution_count": 5,
   "metadata": {},
   "outputs": [
    {
     "name": "stderr",
     "output_type": "stream",
     "text": [
      "CommandError: 'lists' conflicts with the name of an existing Python module and cannot be used as an app name. Please try another name.\n"
     ]
    }
   ],
   "source": [
    "!python manage.py startapp lists"
   ]
  },
  {
   "cell_type": "markdown",
   "metadata": {},
   "source": [
    "### Unit Tests, and How They Differ from Functional Tests\n",
    "\n",
    "The basic distinction, though, is that functional tests test the application from the outside, from the user’s point of view. Unit tests test the application from the inside, from the programmer’s point of view."
   ]
  },
  {
   "cell_type": "markdown",
   "metadata": {},
   "source": [
    "### Unit Testing in Django"
   ]
  },
  {
   "cell_type": "markdown",
   "metadata": {},
   "source": [
    "Let’s see how to write a unit test for our home page view. Open up the new file at lists/tests.py, and you’ll see something like this:"
   ]
  },
  {
   "cell_type": "code",
   "execution_count": 16,
   "metadata": {},
   "outputs": [
    {
     "name": "stdout",
     "output_type": "stream",
     "text": [
      "from django.test import TestCase\n",
      "\n",
      "class SmokeTest(TestCase):\n",
      "    def test_bad_maths(self):\n",
      "        self.assertEqual(1 + 1, 3)\n"
     ]
    }
   ],
   "source": [
    "!type lists\\tests.py"
   ]
  },
  {
   "cell_type": "markdown",
   "metadata": {},
   "source": [
    "Now let’s invoke this mysterious Django test runner. As usual, it’s a manage.py command:"
   ]
  },
  {
   "cell_type": "code",
   "execution_count": 17,
   "metadata": {},
   "outputs": [
    {
     "name": "stdout",
     "output_type": "stream",
     "text": [
      "Found 1 test(s).\n",
      "System check identified no issues (0 silenced).\n"
     ]
    },
    {
     "name": "stderr",
     "output_type": "stream",
     "text": [
      "Creating test database for alias 'default'...\n",
      "\n",
      "F\n",
      "======================================================================\n",
      "FAIL: test_bad_maths (lists.tests.SmokeTest.test_bad_maths)\n",
      "----------------------------------------------------------------------\n",
      "Traceback (most recent call last):\n",
      "  File \"c:\\Users\\crodr\\BK_tech\\BK_TDD_Python_goat\\lists\\tests.py\", line 5, in test_bad_maths\n",
      "    self.assertEqual(1 + 1, 3)\n",
      "AssertionError: 2 != 3\n",
      "\n",
      "----------------------------------------------------------------------\n",
      "Ran 1 test in 0.001s\n",
      "\n",
      "FAILED (failures=1)\n",
      "Destroying test database for alias 'default'...\n",
      "\n"
     ]
    }
   ],
   "source": [
    "!python manage.py test  "
   ]
  },
  {
   "cell_type": "markdown",
   "metadata": {},
   "source": [
    "Excellent. The machinery seems to be working. This is a good point for a commit:"
   ]
  },
  {
   "cell_type": "code",
   "execution_count": 18,
   "metadata": {},
   "outputs": [
    {
     "name": "stdout",
     "output_type": "stream",
     "text": [
      "On branch master\n",
      "Your branch is up to date with 'origin/master'.\n",
      "\n",
      "Changes not staged for commit:\n",
      "  (use \"git add <file>...\" to update what will be committed)\n",
      "  (use \"git restore <file>...\" to discard changes in working directory)\n",
      "\tmodified:   ch02.ipynb\n",
      "\n",
      "Untracked files:\n",
      "  (use \"git add <file>...\" to include in what will be committed)\n",
      "\tch03.ipynb\n",
      "\tlists/\n",
      "\n",
      "no changes added to commit (use \"git add\" and/or \"git commit -a\")\n"
     ]
    }
   ],
   "source": [
    "!git status"
   ]
  },
  {
   "cell_type": "code",
   "execution_count": 20,
   "metadata": {},
   "outputs": [],
   "source": [
    "!git add lists"
   ]
  },
  {
   "cell_type": "code",
   "execution_count": 21,
   "metadata": {},
   "outputs": [
    {
     "name": "stdout",
     "output_type": "stream",
     "text": [
      "diff --git a/ch02.ipynb b/ch02.ipynb\n",
      "index 27f65b8..52fa135 100644\n",
      "--- a/ch02.ipynb\n",
      "+++ b/ch02.ipynb\n",
      "@@ -153,12 +153,41 @@\n",
      "     \"That’s what we call an expected fail, which is actually good news—​not quite as good as a test that passes, but at least it’s failing for the right reason; we can have some confidence we’ve written the test correctly.\"\n",
      "    ]\n",
      "   },\n",
      "+  {\n",
      "+   \"cell_type\": \"markdown\",\n",
      "+   \"metadata\": {},\n",
      "+   \"source\": [\n",
      "+    \"Let’s try out our new and improved FT!\"\n",
      "+   ]\n",
      "+  },\n",
      "   {\n",
      "    \"cell_type\": \"code\",\n",
      "-   \"execution_count\": null,\n",
      "+   \"execution_count\": 4,\n",
      "    \"metadata\": {},\n",
      "-   \"outputs\": [],\n",
      "-   \"source\": []\n",
      "+   \"outputs\": [\n",
      "+    {\n",
      "+     \"name\": \"stderr\",\n",
      "+     \"output_type\": \"stream\",\n",
      "+     \"text\": [\n",
      "+      \"F\\n\",\n",
      "+      \"======================================================================\\n\",\n",
      "+      \"FAIL: test_can_start_a_todo_list (__main__.NewVisitorTest.test_can_start_a_todo_list)\\n\",\n",
      "+      \"----------------------------------------------------------------------\\n\",\n",
      "+      \"Traceback (most recent call last):\\n\",\n",
      "+      \"  File \\\"c:\\\\Users\\\\crodr\\\\BK_tech\\\\BK_TDD_Python_goat\\\\functional_tests.py\\\", line 19, in test_can_start_a_todo_list\\n\",\n",
      "+      \"    self.assertIn(\\\"To-Do\\\", self.browser.title)\\n\",\n",
      "+      \"AssertionError: 'To-Do' not found in 'The install worked successfully! Congratulations!'\\n\",\n",
      "+      \"\\n\",\n",
      "+      \"----------------------------------------------------------------------\\n\",\n",
      "+      \"Ran 1 test in 4.318s\\n\",\n",
      "+      \"\\n\",\n",
      "+      \"FAILED (failures=1)\\n\"\n",
      "+     ]\n",
      "+    }\n",
      "+   ],\n",
      "+   \"source\": [\n",
      "+    \"!python functional_tests.py\"\n",
      "+   ]\n",
      "   },\n",
      "   {\n",
      "    \"cell_type\": \"code\",\n",
      "diff --git a/ch03.ipynb b/ch03.ipynb\n",
      "new file mode 100644\n",
      "index 0000000..65b261f\n",
      "--- /dev/null\n",
      "+++ b/ch03.ipynb\n",
      "@@ -0,0 +1,126 @@\n",
      "+{\n",
      "+ \"cells\": [\n",
      "+  {\n",
      "+   \"cell_type\": \"markdown\",\n",
      "+   \"metadata\": {},\n",
      "+   \"source\": [\n",
      "+    \" # Test-Driven Development with Python\\n\"\n",
      "+   ]\n",
      "+  },\n",
      "+  {\n",
      "+   \"cell_type\": \"markdown\",\n",
      "+   \"metadata\": {},\n",
      "+   \"source\": [\n",
      "+    \"#### <font color=\\\"grey\\\">Obey the Testing Goat </font>\"\n",
      "+   ]\n",
      "+  },\n",
      "+  {\n",
      "+   \"cell_type\": \"markdown\",\n",
      "+   \"metadata\": {},\n",
      "+   \"source\": [\n",
      "+    \"<img src=\\\"./pics/cover_TDD_Python_goat.jpg\\\" width=300> \"\n",
      "+   ]\n",
      "+  },\n",
      "+  {\n",
      "+   \"cell_type\": \"markdown\",\n",
      "+   \"metadata\": {},\n",
      "+   \"source\": [\n",
      "+    \"Book: https://www.obeythetestinggoat.com/pages/book.html#toc\\n\"\n",
      "+   ]\n",
      "+  },\n",
      "+  {\n",
      "+   \"cell_type\": \"markdown\",\n",
      "+   \"metadata\": {},\n",
      "+   \"source\": [\n",
      "+    \"Source code:\\n\",\n",
      "+    \"\\n\"\n",
      "+   ]\n",
      "+  },\n",
      "+  {\n",
      "+   \"cell_type\": \"code\",\n",
      "+   \"execution_count\": 1,\n",
      "+   \"metadata\": {},\n",
      "+   \"outputs\": [\n",
      "+    {\n",
      "+     \"data\": {\n",
      "+      \"text/plain\": [\n",
      "+       \"'c:\\\\\\\\Users\\\\\\\\crodr\\\\\\\\BK_tech\\\\\\\\BK_TDD_Python_goat'\"\n",
      "+      ]\n",
      "+     },\n",
      "+     \"execution_count\": 1,\n",
      "+     \"metadata\": {},\n",
      "+     \"output_type\": \"execute_result\"\n",
      "+    }\n",
      "+   ],\n",
      "+   \"source\": [\n",
      "+    \"pwd\"\n",
      "+   ]\n",
      "+  },\n",
      "+  {\n",
      "+   \"cell_type\": \"markdown\",\n",
      "+   \"metadata\": {},\n",
      "+   \"source\": [\n",
      "+    \"## Chapter 3. Testing a Simple Home Page with Unit Tests\"\n",
      "+   ]\n",
      "+  },\n",
      "+  {\n",
      "+   \"cell_type\": \"markdown\",\n",
      "+   \"metadata\": {},\n",
      "+   \"source\": [\n",
      "+    \"### Our First Django App, and Our First Unit Test\"\n",
      "+   ]\n",
      "+  },\n",
      "+  {\n",
      "+   \"cell_type\": \"code\",\n",
      "+   \"execution_count\": 5,\n",
      "+   \"metadata\": {},\n",
      "+   \"outputs\": [\n",
      "+    {\n",
      "+     \"name\": \"stderr\",\n",
      "+     \"output_type\": \"stream\",\n",
      "+     \"text\": [\n",
      "+      \"CommandError: 'lists' conflicts with the name of an existing Python module and cannot be used as an app name. Please try another name.\\n\"\n",
      "+     ]\n",
      "+    }\n",
      "+   ],\n",
      "+   \"source\": [\n",
      "+    \"!python manage.py startapp lists\"\n",
      "+   ]\n",
      "+  },\n",
      "+  {\n",
      "+   \"cell_type\": \"code\",\n",
      "+   \"execution_count\": null,\n",
      "+   \"metadata\": {},\n",
      "+   \"outputs\": [],\n",
      "+   \"source\": []\n",
      "+  },\n",
      "+  {\n",
      "+   \"cell_type\": \"code\",\n",
      "+   \"execution_count\": null,\n",
      "+   \"metadata\": {},\n",
      "+   \"outputs\": [],\n",
      "+   \"source\": []\n",
      "+  }\n",
      "+ ],\n",
      "+ \"metadata\": {\n",
      "+  \"kernelspec\": {\n",
      "+   \"display_name\": \".venv\",\n",
      "+   \"language\": \"python\",\n",
      "+   \"name\": \"python3\"\n",
      "+  },\n",
      "+  \"language_info\": {\n",
      "+   \"codemirror_mode\": {\n",
      "+    \"name\": \"ipython\",\n",
      "+    \"version\": 3\n",
      "+   },\n",
      "+   \"file_extension\": \".py\",\n",
      "+   \"mimetype\": \"text/x-python\",\n",
      "+   \"name\": \"python\",\n",
      "+   \"nbconvert_exporter\": \"python\",\n",
      "+   \"pygments_lexer\": \"ipython3\",\n",
      "+   \"version\": \"3.12.1\"\n",
      "+  }\n",
      "+ },\n",
      "+ \"nbformat\": 4,\n",
      "+ \"nbformat_minor\": 2\n",
      "+}\n",
      "diff --git a/lists/__init__.py b/lists/__init__.py\n",
      "new file mode 100644\n",
      "index 0000000..e69de29\n",
      "diff --git a/lists/__pycache__/__init__.cpython-312.pyc b/lists/__pycache__/__init__.cpython-312.pyc\n",
      "new file mode 100644\n",
      "index 0000000..a32f1f8\n",
      "Binary files /dev/null and b/lists/__pycache__/__init__.cpython-312.pyc differ\n",
      "diff --git a/lists/__pycache__/tests.cpython-312.pyc b/lists/__pycache__/tests.cpython-312.pyc\n",
      "new file mode 100644\n",
      "index 0000000..63a2dfc\n",
      "Binary files /dev/null and b/lists/__pycache__/tests.cpython-312.pyc differ\n",
      "diff --git a/lists/admin.py b/lists/admin.py\n",
      "new file mode 100644\n",
      "index 0000000..8c38f3f\n",
      "--- /dev/null\n",
      "+++ b/lists/admin.py\n",
      "@@ -0,0 +1,3 @@\n",
      "+from django.contrib import admin\n",
      "+\n",
      "+# Register your models here.\n",
      "diff --git a/lists/apps.py b/lists/apps.py\n",
      "new file mode 100644\n",
      "index 0000000..595ab53\n",
      "--- /dev/null\n",
      "+++ b/lists/apps.py\n",
      "@@ -0,0 +1,6 @@\n",
      "+from django.apps import AppConfig\n",
      "+\n",
      "+\n",
      "+class ListsConfig(AppConfig):\n",
      "+    default_auto_field = \"django.db.models.BigAutoField\"\n",
      "+    name = \"lists\"\n",
      "diff --git a/lists/migrations/__init__.py b/lists/migrations/__init__.py\n",
      "new file mode 100644\n",
      "index 0000000..e69de29\n",
      "diff --git a/lists/migrations/__pycache__/__init__.cpython-312.pyc b/lists/migrations/__pycache__/__init__.cpython-312.pyc\n",
      "new file mode 100644\n",
      "index 0000000..314b873\n",
      "Binary files /dev/null and b/lists/migrations/__pycache__/__init__.cpython-312.pyc differ\n",
      "diff --git a/lists/models.py b/lists/models.py\n",
      "new file mode 100644\n",
      "index 0000000..71a8362\n",
      "--- /dev/null\n",
      "+++ b/lists/models.py\n",
      "@@ -0,0 +1,3 @@\n",
      "+from django.db import models\n",
      "+\n",
      "+# Create your models here.\n",
      "diff --git a/lists/tests.py b/lists/tests.py\n",
      "new file mode 100644\n",
      "index 0000000..90f6bdb\n",
      "--- /dev/null\n",
      "+++ b/lists/tests.py\n",
      "@@ -0,0 +1,5 @@\n",
      "+from django.test import TestCase\n",
      "+\n",
      "+class SmokeTest(TestCase):\n",
      "+    def test_bad_maths(self):\n",
      "+        self.assertEqual(1 + 1, 3)\n",
      "diff --git a/lists/views.py b/lists/views.py\n",
      "new file mode 100644\n",
      "index 0000000..91ea44a\n",
      "--- /dev/null\n",
      "+++ b/lists/views.py\n",
      "@@ -0,0 +1,3 @@\n",
      "+from django.shortcuts import render\n",
      "+\n",
      "+# Create your views here.\n"
     ]
    }
   ],
   "source": [
    "!git diff --staged"
   ]
  },
  {
   "cell_type": "code",
   "execution_count": 22,
   "metadata": {},
   "outputs": [
    {
     "name": "stdout",
     "output_type": "stream",
     "text": [
      "[master 5a963c6] Add app for lists, whith deliberate failing unit test\n",
      " 12 files changed, 178 insertions(+), 3 deletions(-)\n",
      " create mode 100644 ch03.ipynb\n",
      " create mode 100644 lists/__init__.py\n",
      " create mode 100644 lists/__pycache__/__init__.cpython-312.pyc\n",
      " create mode 100644 lists/__pycache__/tests.cpython-312.pyc\n",
      " create mode 100644 lists/admin.py\n",
      " create mode 100644 lists/apps.py\n",
      " create mode 100644 lists/migrations/__init__.py\n",
      " create mode 100644 lists/migrations/__pycache__/__init__.cpython-312.pyc\n",
      " create mode 100644 lists/models.py\n",
      " create mode 100644 lists/tests.py\n",
      " create mode 100644 lists/views.py\n"
     ]
    }
   ],
   "source": [
    "!git commit -m \"Add app for lists, whith deliberate failing unit test\""
   ]
  },
  {
   "cell_type": "code",
   "execution_count": 23,
   "metadata": {},
   "outputs": [
    {
     "name": "stderr",
     "output_type": "stream",
     "text": [
      "To https://github.com/cr2003/BK_TDD_Python_goat.git\n",
      "   cea9099..5a963c6  master -> master\n"
     ]
    }
   ],
   "source": [
    "!git push"
   ]
  },
  {
   "cell_type": "markdown",
   "metadata": {},
   "source": [
    "### Django's MVC, URLs, and View Functions"
   ]
  },
  {
   "cell_type": "markdown",
   "metadata": {},
   "source": [
    "Django is structured along a classic Model-View-Controller (MVC) pattern. Well, broadly. It definitely does have models, but what Django calls views are really controllers, and the view part is actually provided by the templates, but you can see the general idea is there!"
   ]
  },
  {
   "cell_type": "markdown",
   "metadata": {},
   "source": [
    "### Unit Testing a View\n",
    "\n",
    "Open up lists/tests.py, and change our silly test to something like this:"
   ]
  },
  {
   "cell_type": "code",
   "execution_count": 69,
   "metadata": {},
   "outputs": [
    {
     "name": "stdout",
     "output_type": "stream",
     "text": [
      "### lists/tests.py (ch03l003)\n",
      "from django.test import TestCase\n",
      "from django.http import HttpRequest\n",
      "from lists.views import home_page\n",
      "\n",
      "\n",
      "class HomePageTest(TestCase):\n",
      "    def test_home_page_returns_correct_html(self):\n",
      "        request = HttpRequest()   # 1\n",
      "        response = home_page(request)   # 2\n",
      "        html = response.content.decode(\"utf8\")   # 3\n",
      "        self.assertIn(\"<title>To-Do lists</title>\", html)   # 4\n",
      "        self.assertTrue(html.startswith(\"<html>\"))   # 5\n",
      "        self.assertTrue(html.endswith(\"</html>\"))   # 6\n"
     ]
    }
   ],
   "source": [
    "!type .\\lists\\tests.py"
   ]
  },
  {
   "cell_type": "markdown",
   "metadata": {},
   "source": [
    "What’s going on in this new test? Well, remember, a view function takes an HTTP request as input, and produces an HTTP response. So, to test that:\n",
    "\n",
    "1) We import the `HttpRequest` class so that we can then create a request object within our test. This is the kind of object that Django will create when a user’s browser asks for a page.\n",
    "\n",
    "2) We pass the `HttpRequest` object to our home_page view, which gives us a response. You won’t be surprised to hear that the response is an instance of a class called HttpResponse.\n",
    "\n",
    "3) Then, we extract the `.content` of the response. These are the raw bytes, the ones and zeros that would be sent down the wire to the user’s browser. We call `.decode()` to convert them into the string of HTML that’s being sent to the user.\n",
    "\n",
    "4) Now we can make some assertions: we know we want an html `<title>` tag somewhere in there, with the words \"To-Do lists\" in it—​because that’s what we specified in our functional test.\n",
    "\n",
    "5) And we can do a vague sanity check that it’s valid html, by checking that it starts with an `<html>` tag which gets closed at the end.\n",
    "\n",
    "So, what do you think will happen when we run the tests?"
   ]
  },
  {
   "cell_type": "code",
   "execution_count": 52,
   "metadata": {},
   "outputs": [
    {
     "name": "stdout",
     "output_type": "stream",
     "text": [
      "Found 1 test(s).\n",
      "System check identified no issues (0 silenced).\n"
     ]
    },
    {
     "name": "stderr",
     "output_type": "stream",
     "text": [
      "Creating test database for alias 'default'...\n",
      "\n",
      "E\n",
      "======================================================================\n",
      "ERROR: test_home_page_returns_correct_html (lists.tests.HomePageTest.test_home_page_returns_correct_html)\n",
      "----------------------------------------------------------------------\n",
      "Traceback (most recent call last):\n",
      "  File \"c:\\Users\\crodr\\BK_tech\\BK_TDD_Python_goat\\lists\\tests.py\", line 10, in test_home_page_returns_correct_html\n",
      "    response = home_page(request)   # 2\n",
      "               ^^^^^^^^^^^^^^^^^^\n",
      "TypeError: 'NoneType' object is not callable\n",
      "\n",
      "----------------------------------------------------------------------\n",
      "Ran 1 test in 0.001s\n",
      "\n",
      "FAILED (errors=1)\n",
      "Destroying test database for alias 'default'...\n",
      "\n"
     ]
    }
   ],
   "source": [
    "!python manage.py test"
   ]
  },
  {
   "cell_type": "markdown",
   "metadata": {},
   "source": [
    "t’s a very predictable and uninteresting error: we tried to import something we haven’t even written yet. But it’s still good news—​for the purposes of TDD, an exception which was predicted counts as an expected failure. Since we have both a failing functional test and a failing unit test, we have the Testing Goat’s full blessing to code away."
   ]
  },
  {
   "cell_type": "markdown",
   "metadata": {},
   "source": [
    "#### At Last! We Actually Write Some Application Code!"
   ]
  },
  {
   "cell_type": "markdown",
   "metadata": {},
   "source": [
    "I’m being deliberately extreme here, but what’s our current test failure? We can’t import home_page from lists.views? OK, let’s fix that—​and only that. In lists/views.py:"
   ]
  },
  {
   "cell_type": "code",
   "execution_count": 53,
   "metadata": {},
   "outputs": [
    {
     "name": "stdout",
     "output_type": "stream",
     "text": [
      "# lists/views.py (ch03l004)\n",
      "from django.shortcuts import render\n",
      "\n",
      "\n",
      "# Create your views here.\n",
      "home_page = None\n",
      "\n"
     ]
    }
   ],
   "source": [
    "!type .\\lists\\views.py"
   ]
  },
  {
   "cell_type": "markdown",
   "metadata": {},
   "source": [
    "Let's run the test again:"
   ]
  },
  {
   "cell_type": "code",
   "execution_count": 54,
   "metadata": {},
   "outputs": [
    {
     "name": "stdout",
     "output_type": "stream",
     "text": [
      "Found 1 test(s).\n",
      "System check identified no issues (0 silenced).\n"
     ]
    },
    {
     "name": "stderr",
     "output_type": "stream",
     "text": [
      "Creating test database for alias 'default'...\n",
      "\n",
      "E\n",
      "======================================================================\n",
      "ERROR: test_home_page_returns_correct_html (lists.tests.HomePageTest.test_home_page_returns_correct_html)\n",
      "----------------------------------------------------------------------\n",
      "Traceback (most recent call last):\n",
      "  File \"c:\\Users\\crodr\\BK_tech\\BK_TDD_Python_goat\\lists\\tests.py\", line 10, in test_home_page_returns_correct_html\n",
      "    response = home_page(request)   # 2\n",
      "               ^^^^^^^^^^^^^^^^^^\n",
      "TypeError: 'NoneType' object is not callable\n",
      "\n",
      "----------------------------------------------------------------------\n",
      "Ran 1 test in 0.001s\n",
      "\n",
      "FAILED (errors=1)\n",
      "Destroying test database for alias 'default'...\n",
      "\n"
     ]
    }
   ],
   "source": [
    "!python manage.py test\n"
   ]
  },
  {
   "cell_type": "markdown",
   "metadata": {},
   "source": [
    "We still get an error, but it’s moved on a bit. Instead of an import error, our tests are telling us that our home_page \"function\" is not callable. That gives us a justification for changing it from being None to being an actual function. At the very smallest level of detail, every single code change can be driven by the tests!\n",
    "\n",
    "Back in lists/views.py:"
   ]
  },
  {
   "cell_type": "code",
   "execution_count": 55,
   "metadata": {},
   "outputs": [
    {
     "name": "stdout",
     "output_type": "stream",
     "text": [
      "# lists/views.py (ch03l005)\n",
      "from django.shortcuts import render\n",
      "\n",
      "\n",
      "# Create your views here.\n",
      "def home_page():\n",
      "    pass\n",
      "\n"
     ]
    }
   ],
   "source": [
    "!type .\\lists\\views.py\n"
   ]
  },
  {
   "cell_type": "markdown",
   "metadata": {},
   "source": [
    "Again, we’re making the smallest, dumbest change we can possibly make, that addresses precisely the current test failure. Our tests wanted something callable, so we gave them the simplest possible callable thing, a function that takes no arguments and returns nothing.\n",
    "\n",
    "Let’s run the tests again and see what they think:"
   ]
  },
  {
   "cell_type": "code",
   "execution_count": 56,
   "metadata": {},
   "outputs": [
    {
     "name": "stdout",
     "output_type": "stream",
     "text": [
      "Found 1 test(s).\n",
      "System check identified no issues (0 silenced).\n"
     ]
    },
    {
     "name": "stderr",
     "output_type": "stream",
     "text": [
      "Creating test database for alias 'default'...\n",
      "\n",
      "E\n",
      "======================================================================\n",
      "ERROR: test_home_page_returns_correct_html (lists.tests.HomePageTest.test_home_page_returns_correct_html)\n",
      "----------------------------------------------------------------------\n",
      "Traceback (most recent call last):\n",
      "  File \"c:\\Users\\crodr\\BK_tech\\BK_TDD_Python_goat\\lists\\tests.py\", line 10, in test_home_page_returns_correct_html\n",
      "    response = home_page(request)   # 2\n",
      "               ^^^^^^^^^^^^^^^^^^\n",
      "TypeError: home_page() takes 0 positional arguments but 1 was given\n",
      "\n",
      "----------------------------------------------------------------------\n",
      "Ran 1 test in 0.001s\n",
      "\n",
      "FAILED (errors=1)\n",
      "Destroying test database for alias 'default'...\n",
      "\n"
     ]
    }
   ],
   "source": [
    "!python manage.py test\n"
   ]
  },
  {
   "cell_type": "markdown",
   "metadata": {},
   "source": [
    "Once more, our error message has changed slightly, and is guiding us towards fixing the next thing that’s wrong."
   ]
  },
  {
   "cell_type": "markdown",
   "metadata": {},
   "source": [
    "#### The Unit-Test/Code Cycle"
   ]
  },
  {
   "cell_type": "markdown",
   "metadata": {},
   "source": [
    "* Minimal code change:"
   ]
  },
  {
   "cell_type": "code",
   "execution_count": 57,
   "metadata": {},
   "outputs": [
    {
     "name": "stdout",
     "output_type": "stream",
     "text": [
      "# lists/views.py (ch03l006)\n",
      "from django.shortcuts import render\n",
      "\n",
      "\n",
      "# Create your views here.\n",
      "def home_page(request):\n",
      "    pass\n",
      "\n"
     ]
    }
   ],
   "source": [
    "!type .\\lists\\views.py\n"
   ]
  },
  {
   "cell_type": "markdown",
   "metadata": {},
   "source": [
    "* Tests:"
   ]
  },
  {
   "cell_type": "code",
   "execution_count": 58,
   "metadata": {},
   "outputs": [
    {
     "name": "stdout",
     "output_type": "stream",
     "text": [
      "Found 1 test(s).\n",
      "System check identified no issues (0 silenced).\n"
     ]
    },
    {
     "name": "stderr",
     "output_type": "stream",
     "text": [
      "Creating test database for alias 'default'...\n",
      "\n",
      "E\n",
      "======================================================================\n",
      "ERROR: test_home_page_returns_correct_html (lists.tests.HomePageTest.test_home_page_returns_correct_html)\n",
      "----------------------------------------------------------------------\n",
      "Traceback (most recent call last):\n",
      "  File \"c:\\Users\\crodr\\BK_tech\\BK_TDD_Python_goat\\lists\\tests.py\", line 11, in test_home_page_returns_correct_html\n",
      "    html = response.content.decode(\"utf8\")   # 3\n",
      "           ^^^^^^^^^^^^^^^^\n",
      "AttributeError: 'NoneType' object has no attribute 'content'\n",
      "\n",
      "----------------------------------------------------------------------\n",
      "Ran 1 test in 0.001s\n",
      "\n",
      "FAILED (errors=1)\n",
      "Destroying test database for alias 'default'...\n",
      "\n"
     ]
    }
   ],
   "source": [
    "!python manage.py test"
   ]
  },
  {
   "cell_type": "markdown",
   "metadata": {},
   "source": [
    "* Code—​we use `django.http.HttpResponse`, as predicted:\n"
   ]
  },
  {
   "cell_type": "code",
   "execution_count": 61,
   "metadata": {},
   "outputs": [
    {
     "name": "stdout",
     "output_type": "stream",
     "text": [
      "# lists/views.py (ch03l007)\n",
      "from django.shortcuts import render\n",
      "from django.http import HttpResponse\n",
      "\n",
      "\n",
      "def home_page(request):\n",
      "    return HttpResponse()\n",
      "\n"
     ]
    }
   ],
   "source": [
    "!type .\\lists\\views.py\n"
   ]
  },
  {
   "cell_type": "markdown",
   "metadata": {},
   "source": [
    "* Test again:"
   ]
  },
  {
   "cell_type": "code",
   "execution_count": 64,
   "metadata": {},
   "outputs": [
    {
     "name": "stdout",
     "output_type": "stream",
     "text": [
      "Found 1 test(s).\n",
      "System check identified no issues (0 silenced).\n"
     ]
    },
    {
     "name": "stderr",
     "output_type": "stream",
     "text": [
      "Creating test database for alias 'default'...\n",
      "\n",
      "F\n",
      "======================================================================\n",
      "FAIL: test_home_page_returns_correct_html (lists.tests.HomePageTest.test_home_page_returns_correct_html)\n",
      "----------------------------------------------------------------------\n",
      "Traceback (most recent call last):\n",
      "  File \"c:\\Users\\crodr\\BK_tech\\BK_TDD_Python_goat\\lists\\tests.py\", line 12, in test_home_page_returns_correct_html\n",
      "    self.assertIn(\"<title>To-Do lists</title>\", html)   # 4\n",
      "    ^^^^^^^^^^^^^^^^^^^^^^^^^^^^^^^^^^^^^^^^^^^^^^^^^\n",
      "AssertionError: '<title>To-Do lists</title>' not found in ''\n",
      "\n",
      "----------------------------------------------------------------------\n",
      "Ran 1 test in 0.001s\n",
      "\n",
      "FAILED (failures=1)\n",
      "Destroying test database for alias 'default'...\n",
      "\n"
     ]
    }
   ],
   "source": [
    "!python manage.py test\n"
   ]
  },
  {
   "cell_type": "markdown",
   "metadata": {},
   "source": [
    "* Code again:"
   ]
  },
  {
   "cell_type": "code",
   "execution_count": 65,
   "metadata": {},
   "outputs": [
    {
     "name": "stdout",
     "output_type": "stream",
     "text": [
      "# lists/views.py (ch03l008)\n",
      "from django.shortcuts import render\n",
      "from django.http import HttpResponse\n",
      "\n",
      "\n",
      "def home_page(request):\n",
      "    return HttpResponse(\"<title>To-Do lists</title>\")\n",
      "\n"
     ]
    }
   ],
   "source": [
    "!type .\\lists\\views.py\n"
   ]
  },
  {
   "cell_type": "markdown",
   "metadata": {},
   "source": [
    "* Test yet again:"
   ]
  },
  {
   "cell_type": "code",
   "execution_count": 66,
   "metadata": {},
   "outputs": [
    {
     "name": "stdout",
     "output_type": "stream",
     "text": [
      "Found 1 test(s).\n",
      "System check identified no issues (0 silenced).\n"
     ]
    },
    {
     "name": "stderr",
     "output_type": "stream",
     "text": [
      "Creating test database for alias 'default'...\n",
      "\n",
      "F\n",
      "======================================================================\n",
      "FAIL: test_home_page_returns_correct_html (lists.tests.HomePageTest.test_home_page_returns_correct_html)\n",
      "----------------------------------------------------------------------\n",
      "Traceback (most recent call last):\n",
      "  File \"c:\\Users\\crodr\\BK_tech\\BK_TDD_Python_goat\\lists\\tests.py\", line 13, in test_home_page_returns_correct_html\n",
      "    self.assertTrue(html.startswith(\"<html>\"))   # 5\n",
      "    ^^^^^^^^^^^^^^^^^^^^^^^^^^^^^^^^^^^^^^^^^^\n",
      "AssertionError: False is not true\n",
      "\n",
      "----------------------------------------------------------------------\n",
      "Ran 1 test in 0.001s\n",
      "\n",
      "FAILED (failures=1)\n",
      "Destroying test database for alias 'default'...\n",
      "\n"
     ]
    }
   ],
   "source": [
    "!python manage.py test\n"
   ]
  },
  {
   "cell_type": "markdown",
   "metadata": {},
   "source": [
    "* Code yet again:"
   ]
  },
  {
   "cell_type": "code",
   "execution_count": 67,
   "metadata": {},
   "outputs": [
    {
     "name": "stdout",
     "output_type": "stream",
     "text": [
      "# lists/views.py (ch03l009)\n",
      "from django.shortcuts import render\n",
      "from django.http import HttpResponse\n",
      "\n",
      "\n",
      "def home_page(request):\n",
      "    return HttpResponse(\"<html><title>To-Do lists</title>\")\n",
      "\n"
     ]
    }
   ],
   "source": [
    "!type .\\lists\\views.py\n"
   ]
  },
  {
   "cell_type": "markdown",
   "metadata": {},
   "source": [
    "* Tests—​almost there?"
   ]
  },
  {
   "cell_type": "code",
   "execution_count": 70,
   "metadata": {},
   "outputs": [
    {
     "name": "stdout",
     "output_type": "stream",
     "text": [
      "Found 1 test(s).\n",
      "System check identified no issues (0 silenced).\n"
     ]
    },
    {
     "name": "stderr",
     "output_type": "stream",
     "text": [
      "Creating test database for alias 'default'...\n",
      "\n",
      "F\n",
      "======================================================================\n",
      "FAIL: test_home_page_returns_correct_html (lists.tests.HomePageTest.test_home_page_returns_correct_html)\n",
      "----------------------------------------------------------------------\n",
      "Traceback (most recent call last):\n",
      "  File \"c:\\Users\\crodr\\BK_tech\\BK_TDD_Python_goat\\lists\\tests.py\", line 14, in test_home_page_returns_correct_html\n",
      "    self.assertTrue(html.endswith(\"</html>\"))   # 6\n",
      "    ^^^^^^^^^^^^^^^^^^^^^^^^^^^^^^^^^^^^^^^^^\n",
      "AssertionError: False is not true\n",
      "\n",
      "----------------------------------------------------------------------\n",
      "Ran 1 test in 0.001s\n",
      "\n",
      "FAILED (failures=1)\n",
      "Destroying test database for alias 'default'...\n",
      "\n"
     ]
    }
   ],
   "source": [
    "!python manage.py test"
   ]
  },
  {
   "cell_type": "markdown",
   "metadata": {},
   "source": [
    "* Come on, one last effort:\n"
   ]
  },
  {
   "cell_type": "code",
   "execution_count": 71,
   "metadata": {},
   "outputs": [
    {
     "name": "stdout",
     "output_type": "stream",
     "text": [
      "# lists/views.py (ch03l009)\n",
      "from django.shortcuts import render\n",
      "from django.http import HttpResponse\n",
      "\n",
      "\n",
      "def home_page(request):\n",
      "    return HttpResponse(\"<html><title>To-Do lists</title></html>\")\n",
      "\n"
     ]
    }
   ],
   "source": [
    "!type .\\lists\\views.py\n"
   ]
  },
  {
   "cell_type": "markdown",
   "metadata": {},
   "source": [
    "* Surely?"
   ]
  },
  {
   "cell_type": "code",
   "execution_count": 72,
   "metadata": {},
   "outputs": [
    {
     "name": "stdout",
     "output_type": "stream",
     "text": [
      "Found 1 test(s).\n",
      "System check identified no issues (0 silenced).\n"
     ]
    },
    {
     "name": "stderr",
     "output_type": "stream",
     "text": [
      "Creating test database for alias 'default'...\n",
      "\n",
      ".\n",
      "----------------------------------------------------------------------\n",
      "Ran 1 test in 0.001s\n",
      "\n",
      "OK\n",
      "Destroying test database for alias 'default'...\n",
      "\n"
     ]
    }
   ],
   "source": [
    "!python manage.py test\n"
   ]
  },
  {
   "cell_type": "markdown",
   "metadata": {},
   "source": [
    "Hooray! Our first ever unit test pass! That’s so momentous that I think it’s worthy of a commit:"
   ]
  },
  {
   "cell_type": "code",
   "execution_count": 76,
   "metadata": {},
   "outputs": [
    {
     "name": "stdout",
     "output_type": "stream",
     "text": [
      "diff --git a/lists/tests.py b/lists/tests.py\n",
      "index 90f6bdb..bac45b0 100644\n",
      "--- a/lists/tests.py\n",
      "+++ b/lists/tests.py\n",
      "@@ -1,5 +1,14 @@\n",
      "+### lists/tests.py (ch03l003)\n",
      " from django.test import TestCase\n",
      "+from django.http import HttpRequest\n",
      "+from lists.views import home_page\n",
      " \n",
      "-class SmokeTest(TestCase):\n",
      "-    def test_bad_maths(self):\n",
      "-        self.assertEqual(1 + 1, 3)\n",
      "+\n",
      "+class HomePageTest(TestCase):\n",
      "+    def test_home_page_returns_correct_html(self):\n",
      "+        request = HttpRequest()   # 1\n",
      "+        response = home_page(request)   # 2\n",
      "+        html = response.content.decode(\"utf8\")   # 3\n",
      "+        self.assertIn(\"<title>To-Do lists</title>\", html)   # 4\n",
      "+        self.assertTrue(html.startswith(\"<html>\"))   # 5\n",
      "+        self.assertTrue(html.endswith(\"</html>\"))   # 6\n",
      "diff --git a/lists/views.py b/lists/views.py\n",
      "index 91ea44a..302c2a4 100644\n",
      "--- a/lists/views.py\n",
      "+++ b/lists/views.py\n",
      "@@ -1,3 +1,8 @@\n",
      "+# lists/views.py (ch03l009)\n",
      " from django.shortcuts import render\n",
      "+from django.http import HttpResponse\n",
      "+\n",
      "+\n",
      "+def home_page(request):\n",
      "+    return HttpResponse(\"<html><title>To-Do lists</title></html>\")\n",
      " \n",
      "-# Create your views here.\n"
     ]
    }
   ],
   "source": [
    "! git diff  lists/views.py lists/tests.py"
   ]
  },
  {
   "cell_type": "code",
   "execution_count": 78,
   "metadata": {},
   "outputs": [
    {
     "name": "stdout",
     "output_type": "stream",
     "text": [
      "[master 0a2f531] First unit test and view fuction\n",
      " 4 files changed, 486 insertions(+), 6 deletions(-)\n"
     ]
    },
    {
     "name": "stderr",
     "output_type": "stream",
     "text": [
      "warning: in the working copy of 'ch03.ipynb', LF will be replaced by CRLF the next time Git touches it\n"
     ]
    }
   ],
   "source": [
    "!git commit -am \"First unit test and view fuction\""
   ]
  },
  {
   "cell_type": "code",
   "execution_count": 79,
   "metadata": {},
   "outputs": [
    {
     "name": "stderr",
     "output_type": "stream",
     "text": [
      "To https://github.com/cr2003/BK_TDD_Python_goat.git\n",
      "   5a963c6..0a2f531  master -> master\n"
     ]
    }
   ],
   "source": [
    "!git push"
   ]
  },
  {
   "cell_type": "markdown",
   "metadata": {},
   "source": [
    "### Our functional tests tell us we're not quite done yet."
   ]
  },
  {
   "cell_type": "markdown",
   "metadata": {},
   "source": [
    "We’ve got our unit test passing, so let’s go back to running our functional tests to see if we’ve made progress. Don’t forget to spin up the dev server again, if it’s not still running."
   ]
  },
  {
   "cell_type": "code",
   "execution_count": 80,
   "metadata": {},
   "outputs": [
    {
     "name": "stderr",
     "output_type": "stream",
     "text": [
      "F\n",
      "======================================================================\n",
      "FAIL: test_can_start_a_todo_list (__main__.NewVisitorTest.test_can_start_a_todo_list)\n",
      "----------------------------------------------------------------------\n",
      "Traceback (most recent call last):\n",
      "  File \"c:\\Users\\crodr\\BK_tech\\BK_TDD_Python_goat\\functional_tests.py\", line 19, in test_can_start_a_todo_list\n",
      "    self.assertIn(\"To-Do\", self.browser.title)\n",
      "AssertionError: 'To-Do' not found in 'The install worked successfully! Congratulations!'\n",
      "\n",
      "----------------------------------------------------------------------\n",
      "Ran 1 test in 6.057s\n",
      "\n",
      "FAILED (failures=1)\n"
     ]
    }
   ],
   "source": [
    "!python functional_tests.py"
   ]
  },
  {
   "cell_type": "markdown",
   "metadata": {},
   "source": [
    "Looks like something isn’t quite right. This is the reason we have functional tests!\n",
    "\n",
    "Do you remember at the beginning of the chapter, we said we needed to do two things, firstly create a view function to produce responses for requests, and secondly tell the server which functions should respond to which URLs? Thanks to our FT, we have been reminded that we still need to do the second thing.\n",
    "\n",
    "How can we write a test for URL resolution? At the moment we just test the view function directly by importing it and calling it. But we want to test more layers of the Django stack. Django, like most web frameworks, supplies a tool for doing just that, called the [Django Test Client](https://docs.djangoproject.com/en/5.1/topics/testing/tools/#the-test-client).\n",
    "\n",
    "Let’s see how to use it by adding a second, alternative test to our unit tests:"
   ]
  },
  {
   "cell_type": "code",
   "execution_count": 81,
   "metadata": {},
   "outputs": [
    {
     "name": "stdout",
     "output_type": "stream",
     "text": [
      "### lists/tests.py (ch03l011)\n",
      "from django.test import TestCase\n",
      "from django.http import HttpRequest\n",
      "from lists.views import home_page\n",
      "\n",
      "\n",
      "class HomePageTest(TestCase):\n",
      "    def test_home_page_returns_correct_html(self):\n",
      "        request = HttpRequest()   # 1\n",
      "        response = home_page(request)   # 2\n",
      "        html = response.content.decode(\"utf8\")   # 3\n",
      "        self.assertIn(\"<title>To-Do lists</title>\", html)   # 4\n",
      "        self.assertTrue(html.startswith(\"<html>\"))   # 5\n",
      "        self.assertTrue(html.endswith(\"</html>\"))   # 6\n",
      "\n",
      "    def test_home_page_returns_correct_html_2(self):\n",
      "        response = self.client.get(\"/\")   # 7\n",
      "        self.assertContains(response, \"<title>To-Do lists</title>\")   # 8\n"
     ]
    }
   ],
   "source": [
    "! type .\\lists\\tests.py  "
   ]
  },
  {
   "cell_type": "markdown",
   "metadata": {},
   "source": [
    "7) We can access the tests client via `self.client`, which is available on any test that uses `django.test.TestCase`. It provides methods like `.get()` which simulate a browser making http requests, and take a URL as their first parameter. We use this instead of manually creating a request object and calling the view function directly\n",
    "\n",
    "8) Django also provides some assertion helpers like `assertContains` that save us from having to manually extract and decode response content, and have some other nice properties besides, as we’ll see.\n",
    "Let’s see how that works:"
   ]
  },
  {
   "cell_type": "code",
   "execution_count": 82,
   "metadata": {},
   "outputs": [
    {
     "name": "stdout",
     "output_type": "stream",
     "text": [
      "Found 2 test(s).\n",
      "System check identified no issues (0 silenced).\n"
     ]
    },
    {
     "name": "stderr",
     "output_type": "stream",
     "text": [
      "Creating test database for alias 'default'...\n",
      "\n",
      ".F\n",
      "======================================================================\n",
      "FAIL: test_home_page_returns_correct_html_2 (lists.tests.HomePageTest.test_home_page_returns_correct_html_2)\n",
      "----------------------------------------------------------------------\n",
      "Traceback (most recent call last):\n",
      "  File \"c:\\Users\\crodr\\BK_tech\\BK_TDD_Python_goat\\lists\\tests.py\", line 18, in test_home_page_returns_correct_html_2\n",
      "    self.assertContains(response, \"<title>To-Do lists</title>\")   # 8\n",
      "    ^^^^^^^^^^^^^^^^^^^^^^^^^^^^^^^^^^^^^^^^^^^^^^^^^^^^^^^^^^^\n",
      "  File \"c:\\Users\\crodr\\BK_tech\\BK_TDD_Python_goat\\.venv\\Lib\\site-packages\\django\\test\\testcases.py\", line 647, in assertContains\n",
      "    text_repr, real_count, msg_prefix = self._assert_contains(\n",
      "                                        ^^^^^^^^^^^^^^^^^^^^^^\n",
      "  File \"c:\\Users\\crodr\\BK_tech\\BK_TDD_Python_goat\\.venv\\Lib\\site-packages\\django\\test\\testcases.py\", line 610, in _assert_contains\n",
      "    self.assertEqual(\n",
      "AssertionError: 404 != 200 : Couldn't retrieve content: Response code was 404 (expected 200)\n",
      "\n",
      "----------------------------------------------------------------------\n",
      "Ran 2 tests in 0.071s\n",
      "\n",
      "FAILED (failures=1)\n",
      "Destroying test database for alias 'default'...\n",
      "\n"
     ]
    }
   ],
   "source": [
    "!python manage.py test"
   ]
  },
  {
   "cell_type": "markdown",
   "metadata": {},
   "source": [
    "### Reading Tracebacks"
   ]
  },
  {
   "cell_type": "code",
   "execution_count": null,
   "metadata": {},
   "outputs": [],
   "source": []
  }
 ],
 "metadata": {
  "kernelspec": {
   "display_name": ".venv",
   "language": "python",
   "name": "python3"
  },
  "language_info": {
   "codemirror_mode": {
    "name": "ipython",
    "version": 3
   },
   "file_extension": ".py",
   "mimetype": "text/x-python",
   "name": "python",
   "nbconvert_exporter": "python",
   "pygments_lexer": "ipython3",
   "version": "3.12.1"
  }
 },
 "nbformat": 4,
 "nbformat_minor": 2
}
