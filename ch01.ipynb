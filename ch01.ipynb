{
 "cells": [
  {
   "cell_type": "markdown",
   "metadata": {},
   "source": [
    " # Test-Driven Development with Python\n"
   ]
  },
  {
   "cell_type": "markdown",
   "metadata": {},
   "source": [
    "#### <font color=\"grey\">Obey the Testing Goat </font>"
   ]
  },
  {
   "cell_type": "markdown",
   "metadata": {},
   "source": [
    "<img src=\"./pics/cover_TDD_Python_goat.jpg\" width=300> "
   ]
  },
  {
   "cell_type": "markdown",
   "metadata": {},
   "source": [
    "Book: https://www.obeythetestinggoat.com/pages/book.html#toc\n"
   ]
  },
  {
   "cell_type": "markdown",
   "metadata": {},
   "source": [
    "Source code:\n",
    "\n"
   ]
  },
  {
   "cell_type": "code",
   "execution_count": null,
   "metadata": {},
   "outputs": [
    {
     "data": {
      "text/plain": [
       "'c:\\\\Users\\\\crodr\\\\BK_tech\\\\BK_TDD_Python_goat\\\\Intro'"
      ]
     },
     "metadata": {},
     "output_type": "display_data"
    }
   ],
   "source": [
    "pwd"
   ]
  },
  {
   "cell_type": "markdown",
   "metadata": {},
   "source": [
    "## Chapter 1. Getting Django Set Up using a Functional Test"
   ]
  },
  {
   "cell_type": "markdown",
   "metadata": {},
   "source": [
    "### Obey the Testing Goat! Do Nothing Until You Have a Test"
   ]
  },
  {
   "cell_type": "markdown",
   "metadata": {},
   "source": [
    "In TDD the first step is always the same: write a test.\n",
    "\n",
    "First we write the test; then we run it and check that it fails as expected. Only then do we go ahead and build some of our app. Repeat that to yourself in a goat-like voice. I know I do."
   ]
  },
  {
   "cell_type": "markdown",
   "metadata": {},
   "source": [
    "We’ll proceed with nice small steps; we’re going to use Django, which is a popular Python web framework, to build our app.\n",
    "\n",
    "The first thing we want to do is check that we’ve got Django installed and that it’s ready for us to work with. The way we’ll check is by confirming that we can spin up Django’s development server and actually see it serving up a web page, in our web browser, on our local computer. We’ll use the Selenium browser automation tool for this.\n",
    "\n",
    "Create a new Python file called `functional_tests.py`, wherever you want to keep the code for your project, and enter the following code. If you feel like making a few little goat noises as you do it, it may help:"
   ]
  },
  {
   "cell_type": "code",
   "execution_count": 1,
   "metadata": {},
   "outputs": [
    {
     "name": "stdout",
     "output_type": "stream",
     "text": [
      "from selenium import webdriver\n",
      "\n",
      "browser = webdriver.Chrome()\n",
      "browser.get(\"http://localhost:8000\")\n",
      "\n",
      "assert \"Congratulations!\" in browser.title\n",
      "print(\"OK\")\n"
     ]
    }
   ],
   "source": [
    "!type functional_tests.py"
   ]
  },
  {
   "cell_type": "markdown",
   "metadata": {},
   "source": [
    "That’s our first functional test (FT); I’ll talk more about what I mean by functional tests, and how they contrast with unit tests, in a bit. For now, it’s enough to assure ourselves that we understand what it’s doing:\n",
    "\n",
    "Starting a Selenium \"webdriver\" to pop up a real Chrome browser window.\n",
    "\n",
    "Using it to open up a web page which we’re expecting to be served from the local computer.\n",
    "\n",
    "Checking (making a test assertion) that the page has the word \"Congratulations!\" in its title.\n",
    "\n",
    "If all goes well we print OK.\n",
    "\n",
    "Let’s try running it:"
   ]
  },
  {
   "cell_type": "code",
   "execution_count": 2,
   "metadata": {},
   "outputs": [
    {
     "name": "stderr",
     "output_type": "stream",
     "text": [
      "Traceback (most recent call last):\n",
      "  File \"c:\\Users\\crodr\\BK_tech\\BK_TDD_Python_goat\\functional_tests.py\", line 4, in <module>\n",
      "    browser.get(\"http://localhost:8000\")\n",
      "  File \"c:\\Users\\crodr\\BK_tech\\BK_TDD_Python_goat\\.venv\\Lib\\site-packages\\selenium\\webdriver\\remote\\webdriver.py\", line 454, in get\n",
      "    self.execute(Command.GET, {\"url\": url})\n",
      "  File \"c:\\Users\\crodr\\BK_tech\\BK_TDD_Python_goat\\.venv\\Lib\\site-packages\\selenium\\webdriver\\remote\\webdriver.py\", line 429, in execute\n",
      "    self.error_handler.check_response(response)\n",
      "  File \"c:\\Users\\crodr\\BK_tech\\BK_TDD_Python_goat\\.venv\\Lib\\site-packages\\selenium\\webdriver\\remote\\errorhandler.py\", line 232, in check_response\n",
      "    raise exception_class(message, screen, stacktrace)\n",
      "selenium.common.exceptions.WebDriverException: Message: unknown error: net::ERR_CONNECTION_REFUSED\n",
      "  (Session info: chrome=134.0.6998.35)\n",
      "Stacktrace:\n",
      "\tGetHandleVerifier [0x00007FF7481EDF85+26693]\n",
      "\t(No symbol) [0x00007FF74814EAD0]\n",
      "\t(No symbol) [0x00007FF747FD91CA]\n",
      "\t(No symbol) [0x00007FF747FD5BC2]\n",
      "\t(No symbol) [0x00007FF747FC6919]\n",
      "\t(No symbol) [0x00007FF747FC8688]\n",
      "\t(No symbol) [0x00007FF747FC6C26]\n",
      "\t(No symbol) [0x00007FF747FC66A6]\n",
      "\t(No symbol) [0x00007FF747FC636A]\n",
      "\t(No symbol) [0x00007FF747FC3EF2]\n",
      "\t(No symbol) [0x00007FF747FC47DC]\n",
      "\t(No symbol) [0x00007FF747FDD01A]\n",
      "\t(No symbol) [0x00007FF748080F4E]\n",
      "\t(No symbol) [0x00007FF7480578EA]\n",
      "\t(No symbol) [0x00007FF7480800B8]\n",
      "\t(No symbol) [0x00007FF7480576C3]\n",
      "\t(No symbol) [0x00007FF748020490]\n",
      "\t(No symbol) [0x00007FF748021743]\n",
      "\tGetHandleVerifier [0x00007FF74854436D+3525677]\n",
      "\tGetHandleVerifier [0x00007FF748557F3B+3606523]\n",
      "\tGetHandleVerifier [0x00007FF74854CEE3+3561379]\n",
      "\tGetHandleVerifier [0x00007FF7482B7C0A+853194]\n",
      "\t(No symbol) [0x00007FF74815990F]\n",
      "\t(No symbol) [0x00007FF748155674]\n",
      "\t(No symbol) [0x00007FF748155816]\n",
      "\t(No symbol) [0x00007FF748144D89]\n",
      "\tBaseThreadInitThunk [0x00007FFF4347E8D7+23]\n",
      "\tRtlUserThreadStart [0x00007FFF4489BF6C+44]\n",
      "\n"
     ]
    }
   ],
   "source": [
    "!python functional_tests.py"
   ]
  },
  {
   "cell_type": "markdown",
   "metadata": {},
   "source": [
    "For now though, we have a failing test, so that means we’re allowed to start building our app."
   ]
  },
  {
   "cell_type": "markdown",
   "metadata": {},
   "source": [
    "### Getting Django Up and Running\n",
    "\n",
    "Since you’ve definitely read “[pre-requisites]” by now, you’ve already got Django installed (right?). The first step in getting Django up and running is to create a project, which will be the main container for our site. Django provides a little command-line tool for this:"
   ]
  },
  {
   "cell_type": "code",
   "execution_count": null,
   "metadata": {},
   "outputs": [],
   "source": [
    "!django-admin startproject superlists ."
   ]
  },
  {
   "cell_type": "markdown",
   "metadata": {},
   "source": [
    "The superlists folder is intended for stuff that applies to the whole project—​like settings.py, for example, which is used to store global configuration information for the site.\n",
    "\n",
    "But the main thing to notice is manage.py. That’s Django’s Swiss Army knife, and one of the things it can do is run a development server. Let’s try that now:"
   ]
  },
  {
   "cell_type": "markdown",
   "metadata": {},
   "source": [
    "Note: Run the following command in the terminal window:\n"
   ]
  },
  {
   "cell_type": "markdown",
   "metadata": {},
   "source": [
    "```python\n",
    "$ python manage.py runserver\n",
    "Watching for file changes with StatReloader\n",
    "Performing system checks...\n",
    "\n",
    "System check identified no issues (0 silenced).\n",
    "\n",
    "You have 18 unapplied migration(s). Your project may not work properly until you apply the migrations for app(s): admin, auth, contenttypes, sessions.\n",
    "Run 'python manage.py migrate' to apply them.\n",
    "March 08, 2025 - 15:00:09\n",
    "Django version 4.2.20, using settings 'superlists.settings'\n",
    "Starting development server at http://127.0.0.1:8000/\n",
    "Quit the server with CTRL-BREAK.\n",
    "```"
   ]
  },
  {
   "cell_type": "markdown",
   "metadata": {},
   "source": [
    "That’s Django’s development server now up and running on our machine."
   ]
  },
  {
   "cell_type": "markdown",
   "metadata": {},
   "source": []
  },
  {
   "cell_type": "code",
   "execution_count": null,
   "metadata": {},
   "outputs": [],
   "source": []
  }
 ],
 "metadata": {
  "kernelspec": {
   "display_name": ".venv",
   "language": "python",
   "name": "python3"
  },
  "language_info": {
   "codemirror_mode": {
    "name": "ipython",
    "version": 3
   },
   "file_extension": ".py",
   "mimetype": "text/x-python",
   "name": "python",
   "nbconvert_exporter": "python",
   "pygments_lexer": "ipython3",
   "version": "3.12.1"
  }
 },
 "nbformat": 4,
 "nbformat_minor": 2
}
